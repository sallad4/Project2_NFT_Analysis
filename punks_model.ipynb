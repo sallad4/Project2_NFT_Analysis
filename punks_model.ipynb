{
 "cells": [
  {
   "cell_type": "code",
   "execution_count": 1,
   "id": "7f2dcf80-d4ba-4c0a-b979-b8cb9f659d85",
   "metadata": {},
   "outputs": [],
   "source": [
    "# Initial imports\n",
    "import numpy as np\n",
    "import pandas as pd\n",
    "from pathlib import Path\n",
    "%matplotlib inline"
   ]
  },
  {
   "cell_type": "code",
   "execution_count": 2,
   "id": "d368f1d9-18d8-43a1-8810-f938a24b8d0a",
   "metadata": {},
   "outputs": [],
   "source": [
    "# Set the random seed for reproducibility\n",
    "\n",
    "from numpy.random import seed\n",
    "\n",
    "seed(1)\n",
    "from tensorflow import random\n",
    "\n",
    "random.set_seed(2)"
   ]
  },
  {
   "cell_type": "markdown",
   "id": "8bffd4e2",
   "metadata": {},
   "source": [
    "<h3>Create a DataFrame out of the Crypto Punk historical data"
   ]
  },
  {
   "cell_type": "code",
   "execution_count": 3,
   "id": "07413075-92b8-4fab-8f48-9ddf5eab3ec4",
   "metadata": {},
   "outputs": [],
   "source": [
    "file_path = Path('~/Downloads/chart.csv')\n",
    "punks_df = pd.read_csv(file_path, index_col= \"Date\", infer_datetime_format=True, parse_dates=True,)\n",
    "punks_df.head()\n",
    "punks_df.dropna(inplace=True)\n"
   ]
  },
  {
   "cell_type": "code",
   "execution_count": 4,
   "id": "ef26e160-6e70-414d-b0ee-e66524544c02",
   "metadata": {},
   "outputs": [
    {
     "data": {
      "text/html": [
       "<div>\n",
       "<style scoped>\n",
       "    .dataframe tbody tr th:only-of-type {\n",
       "        vertical-align: middle;\n",
       "    }\n",
       "\n",
       "    .dataframe tbody tr th {\n",
       "        vertical-align: top;\n",
       "    }\n",
       "\n",
       "    .dataframe thead th {\n",
       "        text-align: right;\n",
       "    }\n",
       "</style>\n",
       "<table border=\"1\" class=\"dataframe\">\n",
       "  <thead>\n",
       "    <tr style=\"text-align: right;\">\n",
       "      <th></th>\n",
       "      <th>Average USD</th>\n",
       "    </tr>\n",
       "    <tr>\n",
       "      <th>Date</th>\n",
       "      <th></th>\n",
       "    </tr>\n",
       "  </thead>\n",
       "  <tbody>\n",
       "    <tr>\n",
       "      <th>2017-06-23</th>\n",
       "      <td>53.70</td>\n",
       "    </tr>\n",
       "    <tr>\n",
       "      <th>2017-06-24</th>\n",
       "      <td>56.53</td>\n",
       "    </tr>\n",
       "    <tr>\n",
       "      <th>2017-06-25</th>\n",
       "      <td>52.43</td>\n",
       "    </tr>\n",
       "    <tr>\n",
       "      <th>2017-06-26</th>\n",
       "      <td>47.81</td>\n",
       "    </tr>\n",
       "    <tr>\n",
       "      <th>2017-06-27</th>\n",
       "      <td>52.96</td>\n",
       "    </tr>\n",
       "    <tr>\n",
       "      <th>...</th>\n",
       "      <td>...</td>\n",
       "    </tr>\n",
       "    <tr>\n",
       "      <th>2021-12-05</th>\n",
       "      <td>88463.56</td>\n",
       "    </tr>\n",
       "    <tr>\n",
       "      <th>2021-12-06</th>\n",
       "      <td>88925.25</td>\n",
       "    </tr>\n",
       "    <tr>\n",
       "      <th>2021-12-07</th>\n",
       "      <td>89066.04</td>\n",
       "    </tr>\n",
       "    <tr>\n",
       "      <th>2021-12-08</th>\n",
       "      <td>89257.26</td>\n",
       "    </tr>\n",
       "    <tr>\n",
       "      <th>2021-12-09</th>\n",
       "      <td>89257.26</td>\n",
       "    </tr>\n",
       "  </tbody>\n",
       "</table>\n",
       "<p>1631 rows × 1 columns</p>\n",
       "</div>"
      ],
      "text/plain": [
       "            Average USD\n",
       "Date                   \n",
       "2017-06-23        53.70\n",
       "2017-06-24        56.53\n",
       "2017-06-25        52.43\n",
       "2017-06-26        47.81\n",
       "2017-06-27        52.96\n",
       "...                 ...\n",
       "2021-12-05     88463.56\n",
       "2021-12-06     88925.25\n",
       "2021-12-07     89066.04\n",
       "2021-12-08     89257.26\n",
       "2021-12-09     89257.26\n",
       "\n",
       "[1631 rows x 1 columns]"
      ]
     },
     "execution_count": 4,
     "metadata": {},
     "output_type": "execute_result"
    }
   ],
   "source": [
    "punks_df"
   ]
  },
  {
   "cell_type": "markdown",
   "id": "1f669445",
   "metadata": {},
   "source": [
    " <h3> Here we want to establish the window (of time) size to evaluate the data"
   ]
  },
  {
   "cell_type": "code",
   "execution_count": 5,
   "id": "de2188c8-29f4-41d3-959a-6be0d040b624",
   "metadata": {},
   "outputs": [],
   "source": [
    "def window_data(df, window, feature_col_number, target_col_number):\n",
    "    \"\"\"\n",
    "    This function accepts the column number for the features (X) and the target (y).\n",
    "    It chunks the data up with a rolling window of Xt - window to predict Xt.\n",
    "    It returns two numpy arrays of X and y.\n",
    "    \"\"\"\n",
    "    X = []\n",
    "    y = []\n",
    "    for i in range(len(df) - window):\n",
    "        features = df.iloc[i : (i + window), feature_col_number]\n",
    "        target = df.iloc[(i + window), target_col_number]\n",
    "        X.append(features)\n",
    "        y.append(target)\n",
    "    return np.array(X), np.array(y).reshape(-1, 1)"
   ]
  },
  {
   "cell_type": "markdown",
   "id": "8c02f09e",
   "metadata": {},
   "source": [
    "<h2> Set the parameters for the window function to accept"
   ]
  },
  {
   "cell_type": "code",
   "execution_count": 6,
   "id": "b19debde",
   "metadata": {},
   "outputs": [
    {
     "name": "stdout",
     "output_type": "stream",
     "text": [
      "X sample values:\n",
      "[[ 53.7   56.53  52.43  47.81  52.96  56.9   57.05  59.98  73.79  76.76\n",
      "   89.3  115.   114.32 126.36 132.35 130.63 129.28 135.16 134.96 133.97\n",
      "  136.05 135.15 134.92 134.77 136.13 134.2  133.06 132.39 131.43 130.47]\n",
      " [ 56.53  52.43  47.81  52.96  56.9   57.05  59.98  73.79  76.76  89.3\n",
      "  115.   114.32 126.36 132.35 130.63 129.28 135.16 134.96 133.97 136.05\n",
      "  135.15 134.92 134.77 136.13 134.2  133.06 132.39 131.43 130.47 129.94]\n",
      " [ 52.43  47.81  52.96  56.9   57.05  59.98  73.79  76.76  89.3  115.\n",
      "  114.32 126.36 132.35 130.63 129.28 135.16 134.96 133.97 136.05 135.15\n",
      "  134.92 134.77 136.13 134.2  133.06 132.39 131.43 130.47 129.94 128.78]] \n",
      "\n",
      "y sample values:\n",
      "[[129.94]\n",
      " [128.78]\n",
      " [129.82]]\n"
     ]
    }
   ],
   "source": [
    "# Define the window size - may be adjusted to improve model\n",
    "window_size = 30 \n",
    "\n",
    "# Set the index of the feature and target columns\n",
    "feature_column = 0\n",
    "target_column = 0\n",
    "\n",
    "# Create the features (X) and target (y) data using the window_data() function.\n",
    "X, y = window_data(punks_df, window_size, feature_column, target_column)\n",
    "\n",
    "# Print a few sample values from X and y\n",
    "print (f\"X sample values:\\n{X[:3]} \\n\")\n",
    "print (f\"y sample values:\\n{y[:3]}\")"
   ]
  },
  {
   "cell_type": "markdown",
   "id": "6f7ad501",
   "metadata": {},
   "source": [
    "<h3> Split the data between training and testing data to evaluate the efficacy of the model"
   ]
  },
  {
   "cell_type": "code",
   "execution_count": 7,
   "id": "2a03c768-4be4-460e-87ad-1b46091150d0",
   "metadata": {},
   "outputs": [],
   "source": [
    "# Manually splitting the data\n",
    "split = int(0.95 * len(X))\n",
    "\n",
    "X_train = X[: split]\n",
    "X_test = X[split:]\n",
    "\n",
    "y_train = y[: split]\n",
    "y_test = y[split:]"
   ]
  },
  {
   "cell_type": "markdown",
   "id": "d534679a",
   "metadata": {},
   "source": [
    "<h3>Scale the training and testing data creating an Apples to Apples method of comparing the time series data."
   ]
  },
  {
   "cell_type": "code",
   "execution_count": 8,
   "id": "2bf07498-7cb9-46ec-976e-e8d790e0b3bd",
   "metadata": {},
   "outputs": [],
   "source": [
    "# Importing the MinMaxScaler from sklearn\n",
    "from sklearn.preprocessing import MinMaxScaler\n",
    "\n",
    "# Create a MinMaxScaler object\n",
    "scaler = MinMaxScaler()\n",
    "\n",
    "# Fit the MinMaxScaler object with the features data X\n",
    "scaler.fit(X_train)\n",
    "\n",
    "# Scale the features training and testing sets\n",
    "X_train = scaler.transform(X_train)\n",
    "X_test = scaler.transform(X_test)\n",
    "\n",
    "# Fit the MinMaxScaler object with the target data Y\n",
    "scaler.fit(y_train)\n",
    "\n",
    "# Scale the target training and testing sets\n",
    "y_train = scaler.transform(y_train)\n",
    "y_test = scaler.transform(y_test)"
   ]
  },
  {
   "cell_type": "markdown",
   "id": "99ff8312",
   "metadata": {},
   "source": [
    "<h3>Match the shape of the data for the training and test data"
   ]
  },
  {
   "cell_type": "code",
   "execution_count": 9,
   "id": "6f7bb671-cb0e-4f96-9813-2c12a3c6d623",
   "metadata": {},
   "outputs": [
    {
     "name": "stdout",
     "output_type": "stream",
     "text": [
      "X_train sample values:\n",
      "[[[1.38125434e-04]\n",
      "  [2.02760001e-04]\n",
      "  [1.06587057e-04]\n",
      "  [0.00000000e+00]\n",
      "  [0.00000000e+00]\n",
      "  [0.00000000e+00]\n",
      "  [0.00000000e+00]\n",
      "  [0.00000000e+00]\n",
      "  [0.00000000e+00]\n",
      "  [0.00000000e+00]\n",
      "  [0.00000000e+00]\n",
      "  [2.07039885e-05]\n",
      "  [1.00527180e-05]\n",
      "  [1.95083046e-04]\n",
      "  [2.85315812e-04]\n",
      "  [2.55759297e-04]\n",
      "  [2.34611704e-04]\n",
      "  [3.21803658e-04]\n",
      "  [3.17364488e-04]\n",
      "  [3.02183746e-04]\n",
      "  [3.32739121e-04]\n",
      "  [3.18621750e-04]\n",
      "  [3.13063837e-04]\n",
      "  [3.10194308e-04]\n",
      "  [3.29463772e-04]\n",
      "  [3.00768843e-04]\n",
      "  [2.82988440e-04]\n",
      "  [2.67232423e-04]\n",
      "  [2.53067337e-04]\n",
      "  [2.39347164e-04]]\n",
      "\n",
      " [[2.04491304e-04]\n",
      "  [1.07425597e-04]\n",
      "  [0.00000000e+00]\n",
      "  [1.07857379e-04]\n",
      "  [7.95041363e-05]\n",
      "  [2.96404788e-06]\n",
      "  [5.71039452e-05]\n",
      "  [2.54599053e-04]\n",
      "  [4.85944267e-05]\n",
      "  [1.98159456e-04]\n",
      "  [4.02446940e-04]\n",
      "  [1.01184906e-05]\n",
      "  [1.96259987e-04]\n",
      "  [2.87167164e-04]\n",
      "  [2.59044763e-04]\n",
      "  [2.35401098e-04]\n",
      "  [3.22985620e-04]\n",
      "  [3.18808742e-04]\n",
      "  [3.02606816e-04]\n",
      "  [3.33146416e-04]\n",
      "  [3.19358191e-04]\n",
      "  [3.15210065e-04]\n",
      "  [3.10853975e-04]\n",
      "  [3.30187875e-04]\n",
      "  [3.01152771e-04]\n",
      "  [2.84067602e-04]\n",
      "  [2.73210087e-04]\n",
      "  [2.53528196e-04]\n",
      "  [2.39388022e-04]\n",
      "  [2.31796330e-04]]\n",
      "\n",
      " [[1.08342870e-04]\n",
      "  [0.00000000e+00]\n",
      "  [1.18814577e-04]\n",
      "  [1.90373509e-04]\n",
      "  [8.25309436e-05]\n",
      "  [6.08617831e-05]\n",
      "  [3.26252574e-04]\n",
      "  [3.09353519e-04]\n",
      "  [2.53770895e-04]\n",
      "  [6.04275725e-04]\n",
      "  [3.91798539e-04]\n",
      "  [1.97544071e-04]\n",
      "  [2.88899650e-04]\n",
      "  [2.60725647e-04]\n",
      "  [2.38425044e-04]\n",
      "  [3.24072364e-04]\n",
      "  [3.19979704e-04]\n",
      "  [3.03983911e-04]\n",
      "  [3.33612835e-04]\n",
      "  [3.19749107e-04]\n",
      "  [3.15938620e-04]\n",
      "  [3.12985053e-04]\n",
      "  [3.30890060e-04]\n",
      "  [3.01814651e-04]\n",
      "  [2.84430211e-04]\n",
      "  [2.74251960e-04]\n",
      "  [2.59199313e-04]\n",
      "  [2.39823969e-04]\n",
      "  [2.31835900e-04]\n",
      "  [2.15269979e-04]]] \n",
      "\n",
      "X_test sample values:\n",
      "[[[1.00853868]\n",
      "  [1.00786718]\n",
      "  [1.10158969]\n",
      "  [1.0379926 ]\n",
      "  [1.02125303]\n",
      "  [1.01390376]\n",
      "  [1.05720412]\n",
      "  [1.12701893]\n",
      "  [1.03545953]\n",
      "  [1.00931571]\n",
      "  [1.00632405]\n",
      "  [1.00654277]\n",
      "  [1.00603302]\n",
      "  [1.00648878]\n",
      "  [1.01284593]\n",
      "  [1.00336468]\n",
      "  [1.00367293]\n",
      "  [1.00455077]\n",
      "  [1.00140004]\n",
      "  [1.00122407]\n",
      "  [1.00231133]\n",
      "  [1.00685556]\n",
      "  [1.00212662]\n",
      "  [1.00219782]\n",
      "  [1.00127649]\n",
      "  [1.00381345]\n",
      "  [1.02236878]\n",
      "  [1.00182109]\n",
      "  [1.00017071]\n",
      "  [1.00177687]]\n",
      "\n",
      " [[1.01647304]\n",
      "  [1.1102561 ]\n",
      "  [1.14344195]\n",
      "  [1.0600508 ]\n",
      "  [1.03545118]\n",
      "  [1.07190306]\n",
      "  [1.19148181]\n",
      "  [1.16697347]\n",
      "  [1.04510512]\n",
      "  [1.01569742]\n",
      "  [1.01290571]\n",
      "  [1.01261527]\n",
      "  [1.01256095]\n",
      "  [1.01941807]\n",
      "  [1.01625384]\n",
      "  [1.00704997]\n",
      "  [1.00824042]\n",
      "  [1.00595719]\n",
      "  [1.00262582]\n",
      "  [1.00353823]\n",
      "  [1.00918274]\n",
      "  [1.00899676]\n",
      "  [1.00432912]\n",
      "  [1.00347712]\n",
      "  [1.00509481]\n",
      "  [1.02626754]\n",
      "  [1.02423061]\n",
      "  [1.00199211]\n",
      "  [1.00194788]\n",
      "  [1.00375419]]\n",
      "\n",
      " [[1.11973622]\n",
      "  [1.15243762]\n",
      "  [1.16774103]\n",
      "  [1.07478684]\n",
      "  [1.09467853]\n",
      "  [1.20804731]\n",
      "  [1.23371963]\n",
      "  [1.17784177]\n",
      "  [1.05171281]\n",
      "  [1.02233908]\n",
      "  [1.01901429]\n",
      "  [1.0191859 ]\n",
      "  [1.02556824]\n",
      "  [1.02284808]\n",
      "  [1.01998646]\n",
      "  [1.01163283]\n",
      "  [1.00965199]\n",
      "  [1.00718855]\n",
      "  [1.00494322]\n",
      "  [1.01041805]\n",
      "  [1.01132889]\n",
      "  [1.01121436]\n",
      "  [1.00561114]\n",
      "  [1.00730383]\n",
      "  [1.02757756]\n",
      "  [1.02813646]\n",
      "  [1.02440545]\n",
      "  [1.00377252]\n",
      "  [1.00392554]\n",
      "  [1.00562266]]]\n"
     ]
    }
   ],
   "source": [
    "# Reshape the features data\n",
    "X_train = X_train.reshape((X_train.shape[0], X_train.shape[1], 1))\n",
    "X_test = X_test.reshape((X_test.shape[0], X_test.shape[1], 1))\n",
    "\n",
    "# Print some sample data after reshaping the datasets\n",
    "print (f\"X_train sample values:\\n{X_train[:3]} \\n\")\n",
    "print (f\"X_test sample values:\\n{X_test[:3]}\")"
   ]
  },
  {
   "cell_type": "markdown",
   "id": "b065305b",
   "metadata": {},
   "source": [
    "<h3>Create the layers of the LSTM neural network model"
   ]
  },
  {
   "cell_type": "code",
   "execution_count": 10,
   "id": "ac53ed52-2160-40c0-b721-c59f2bad4583",
   "metadata": {},
   "outputs": [],
   "source": [
    "# Importing required Keras modules\n",
    "from tensorflow.keras.models import Sequential\n",
    "from tensorflow.keras.layers import LSTM, Dense, Dropout"
   ]
  },
  {
   "cell_type": "code",
   "execution_count": 11,
   "id": "533f29bb-c8e9-429a-be61-7d2de25c8ec5",
   "metadata": {},
   "outputs": [
    {
     "name": "stderr",
     "output_type": "stream",
     "text": [
      "2021-12-12 22:36:08.330059: I tensorflow/core/platform/cpu_feature_guard.cc:151] This TensorFlow binary is optimized with oneAPI Deep Neural Network Library (oneDNN) to use the following CPU instructions in performance-critical operations:  AVX2 FMA\n",
      "To enable them in other operations, rebuild TensorFlow with the appropriate compiler flags.\n"
     ]
    }
   ],
   "source": [
    "# Define the LSTM RNN model.\n",
    "model = Sequential()\n",
    "\n",
    "# Initial model setup\n",
    "number_units = 30\n",
    "dropout_fraction = 0.5\n",
    "\n",
    "# Layer 1\n",
    "model.add(LSTM(\n",
    "    units=number_units,\n",
    "    return_sequences=True,\n",
    "    input_shape=(X_train.shape[1], 1))\n",
    "    )\n",
    "model.add(Dropout(dropout_fraction))\n",
    "\n",
    "# Layer 2\n",
    "model.add(LSTM(units=number_units, return_sequences=True))\n",
    "model.add(Dropout(dropout_fraction))\n",
    "\n",
    "# Layer 3\n",
    "model.add(LSTM(units=number_units))\n",
    "model.add(Dropout(dropout_fraction))\n",
    "\n",
    "# Output layer\n",
    "model.add(Dense(1))"
   ]
  },
  {
   "cell_type": "code",
   "execution_count": 12,
   "id": "07b772ea-cf7d-454c-8527-ed60c3087ef6",
   "metadata": {},
   "outputs": [],
   "source": [
    "# Compile the model\n",
    "model.compile(optimizer=\"adam\", loss=\"mean_squared_error\")"
   ]
  },
  {
   "cell_type": "code",
   "execution_count": 13,
   "id": "2a509cda-45dd-4912-b337-f7d37490edaa",
   "metadata": {},
   "outputs": [
    {
     "name": "stdout",
     "output_type": "stream",
     "text": [
      "Model: \"sequential\"\n",
      "_________________________________________________________________\n",
      " Layer (type)                Output Shape              Param #   \n",
      "=================================================================\n",
      " lstm (LSTM)                 (None, 30, 30)            3840      \n",
      "                                                                 \n",
      " dropout (Dropout)           (None, 30, 30)            0         \n",
      "                                                                 \n",
      " lstm_1 (LSTM)               (None, 30, 30)            7320      \n",
      "                                                                 \n",
      " dropout_1 (Dropout)         (None, 30, 30)            0         \n",
      "                                                                 \n",
      " lstm_2 (LSTM)               (None, 30)                7320      \n",
      "                                                                 \n",
      " dropout_2 (Dropout)         (None, 30)                0         \n",
      "                                                                 \n",
      " dense (Dense)               (None, 1)                 31        \n",
      "                                                                 \n",
      "=================================================================\n",
      "Total params: 18,511\n",
      "Trainable params: 18,511\n",
      "Non-trainable params: 0\n",
      "_________________________________________________________________\n"
     ]
    }
   ],
   "source": [
    "# Show the model summary\n",
    "model.summary()"
   ]
  },
  {
   "cell_type": "markdown",
   "id": "aa440bf3",
   "metadata": {},
   "source": [
    "<h3> Training the Model"
   ]
  },
  {
   "cell_type": "code",
   "execution_count": 14,
   "id": "887707b2",
   "metadata": {},
   "outputs": [
    {
     "name": "stdout",
     "output_type": "stream",
     "text": [
      "Epoch 1/20\n",
      "51/51 [==============================] - 4s 17ms/step - loss: 0.0146\n",
      "Epoch 2/20\n",
      "51/51 [==============================] - 1s 16ms/step - loss: 0.0132\n",
      "Epoch 3/20\n",
      "51/51 [==============================] - 1s 16ms/step - loss: 0.0156\n",
      "Epoch 4/20\n",
      "51/51 [==============================] - 1s 16ms/step - loss: 0.0176\n",
      "Epoch 5/20\n",
      "51/51 [==============================] - 1s 16ms/step - loss: 0.0057\n",
      "Epoch 6/20\n",
      "51/51 [==============================] - 1s 16ms/step - loss: 0.0072\n",
      "Epoch 7/20\n",
      "51/51 [==============================] - 1s 16ms/step - loss: 0.0126\n",
      "Epoch 8/20\n",
      "51/51 [==============================] - 1s 16ms/step - loss: 0.0037\n",
      "Epoch 9/20\n",
      "51/51 [==============================] - 1s 16ms/step - loss: 0.0034\n",
      "Epoch 10/20\n",
      "51/51 [==============================] - 1s 16ms/step - loss: 0.0067\n",
      "Epoch 11/20\n",
      "51/51 [==============================] - 1s 16ms/step - loss: 0.0052\n",
      "Epoch 12/20\n",
      "51/51 [==============================] - 1s 16ms/step - loss: 0.0109\n",
      "Epoch 13/20\n",
      "51/51 [==============================] - 1s 16ms/step - loss: 0.0036\n",
      "Epoch 14/20\n",
      "51/51 [==============================] - 1s 16ms/step - loss: 0.0028\n",
      "Epoch 15/20\n",
      "51/51 [==============================] - 1s 16ms/step - loss: 0.0056\n",
      "Epoch 16/20\n",
      "51/51 [==============================] - 1s 16ms/step - loss: 0.0043\n",
      "Epoch 17/20\n",
      "51/51 [==============================] - 1s 16ms/step - loss: 0.0102\n",
      "Epoch 18/20\n",
      "51/51 [==============================] - 1s 16ms/step - loss: 0.0035\n",
      "Epoch 19/20\n",
      "51/51 [==============================] - 1s 16ms/step - loss: 0.0025\n",
      "Epoch 20/20\n",
      "51/51 [==============================] - 1s 16ms/step - loss: 0.0027\n",
      "CPU times: user 36.1 s, sys: 6.87 s, total: 43 s\n",
      "Wall time: 19.8 s\n"
     ]
    },
    {
     "data": {
      "text/plain": [
       "<keras.callbacks.History at 0x7f9a37ac2d50>"
      ]
     },
     "execution_count": 14,
     "metadata": {},
     "output_type": "execute_result"
    }
   ],
   "source": [
    "%%time\n",
    "# Train the model\n",
    "model.fit(X_train, y_train, epochs=20, shuffle=False, batch_size=30, verbose=1)"
   ]
  },
  {
   "cell_type": "markdown",
   "id": "accb2d50",
   "metadata": {},
   "source": [
    "<h3>How did the model do? "
   ]
  },
  {
   "cell_type": "code",
   "execution_count": 15,
   "id": "e9e0e8f3-cd57-4801-9c73-43d2b6f43ffb",
   "metadata": {},
   "outputs": [
    {
     "data": {
      "text/plain": [
       "0.004147537052631378"
      ]
     },
     "execution_count": 15,
     "metadata": {},
     "output_type": "execute_result"
    }
   ],
   "source": [
    "# Evaluate the model\n",
    "model.evaluate(X_test, y_test, verbose=0)"
   ]
  },
  {
   "cell_type": "markdown",
   "id": "daf9786c",
   "metadata": {},
   "source": [
    "<h2> Use the model to predict the Crypto Punk Prices"
   ]
  },
  {
   "cell_type": "code",
   "execution_count": 16,
   "id": "77b039b0-e3b8-4203-8b5c-32173a873ad4",
   "metadata": {},
   "outputs": [],
   "source": [
    "# Make predictions using the testing data X_test\n",
    "predicted = model.predict(X_test)"
   ]
  },
  {
   "cell_type": "code",
   "execution_count": 17,
   "id": "ab24507f-09ed-44a2-b58f-67b5c394a2c6",
   "metadata": {},
   "outputs": [],
   "source": [
    "# Recover the original prices instead of the scaled version\n",
    "predicted_prices = scaler.inverse_transform(predicted)\n",
    "real_prices = scaler.inverse_transform(y_test.reshape(-1, 1))"
   ]
  },
  {
   "cell_type": "code",
   "execution_count": 18,
   "id": "4da8f37f-5a69-4ec2-b984-3adf868d266d",
   "metadata": {},
   "outputs": [
    {
     "data": {
      "text/html": [
       "<div>\n",
       "<style scoped>\n",
       "    .dataframe tbody tr th:only-of-type {\n",
       "        vertical-align: middle;\n",
       "    }\n",
       "\n",
       "    .dataframe tbody tr th {\n",
       "        vertical-align: top;\n",
       "    }\n",
       "\n",
       "    .dataframe thead th {\n",
       "        text-align: right;\n",
       "    }\n",
       "</style>\n",
       "<table border=\"1\" class=\"dataframe\">\n",
       "  <thead>\n",
       "    <tr style=\"text-align: right;\">\n",
       "      <th></th>\n",
       "      <th>Actual</th>\n",
       "      <th>Predicted</th>\n",
       "    </tr>\n",
       "    <tr>\n",
       "      <th>Date</th>\n",
       "      <th></th>\n",
       "      <th></th>\n",
       "    </tr>\n",
       "  </thead>\n",
       "  <tbody>\n",
       "    <tr>\n",
       "      <th>2021-09-20</th>\n",
       "      <td>70568.11</td>\n",
       "      <td>69565.234375</td>\n",
       "    </tr>\n",
       "    <tr>\n",
       "      <th>2021-09-21</th>\n",
       "      <td>70699.26</td>\n",
       "      <td>69838.039062</td>\n",
       "    </tr>\n",
       "    <tr>\n",
       "      <th>2021-09-22</th>\n",
       "      <td>70832.27</td>\n",
       "      <td>70092.984375</td>\n",
       "    </tr>\n",
       "    <tr>\n",
       "      <th>2021-09-23</th>\n",
       "      <td>71146.69</td>\n",
       "      <td>70328.992188</td>\n",
       "    </tr>\n",
       "    <tr>\n",
       "      <th>2021-09-24</th>\n",
       "      <td>71632.60</td>\n",
       "      <td>70549.664062</td>\n",
       "    </tr>\n",
       "  </tbody>\n",
       "</table>\n",
       "</div>"
      ],
      "text/plain": [
       "              Actual     Predicted\n",
       "Date                              \n",
       "2021-09-20  70568.11  69565.234375\n",
       "2021-09-21  70699.26  69838.039062\n",
       "2021-09-22  70832.27  70092.984375\n",
       "2021-09-23  71146.69  70328.992188\n",
       "2021-09-24  71632.60  70549.664062"
      ]
     },
     "execution_count": 18,
     "metadata": {},
     "output_type": "execute_result"
    }
   ],
   "source": [
    "# Create a DataFrame of Real and Predicted values\n",
    "nft = pd.DataFrame({\n",
    "    \"Actual\": real_prices.ravel(),\n",
    "    \"Predicted\": predicted_prices.ravel()\n",
    "}, index = punks_df.index[-len(real_prices): ]) \n",
    "\n",
    "# Show the DataFrame's head\n",
    "nft.head()"
   ]
  },
  {
   "cell_type": "markdown",
   "id": "95c123f8",
   "metadata": {},
   "source": [
    "<h3>Visualize the Comparison"
   ]
  },
  {
   "cell_type": "code",
   "execution_count": 19,
   "id": "cd3e75df-d6d3-4447-ae0a-c34383b49506",
   "metadata": {},
   "outputs": [
    {
     "data": {
      "text/plain": [
       "<AxesSubplot:title={'center':'Actual Vs. Predicted Crypto Punk Prices'}, xlabel='Date'>"
      ]
     },
     "execution_count": 19,
     "metadata": {},
     "output_type": "execute_result"
    },
    {
     "data": {
      "image/png": "[encoded data removed]",
      "text/plain": [
       "<Figure size 432x288 with 1 Axes>"
      ]
     },
     "metadata": {
      "needs_background": "light"
     },
     "output_type": "display_data"
    }
   ],
   "source": [
    "# Plot the real vs predicted prices as a line chart\n",
    "nft.plot(title=\"Actual Vs. Predicted Crypto Punk Prices\")\n"
   ]
  },
  {
   "cell_type": "code",
   "execution_count": null,
   "id": "ac538380",
   "metadata": {},
   "outputs": [],
   "source": []
  }
 ],
 "metadata": {
  "kernelspec": {
   "display_name": "Python 3 (ipykernel)",
   "language": "python",
   "name": "python3"
  },
  "language_info": {
   "codemirror_mode": {
    "name": "ipython",
    "version": 3
   },
   "file_extension": ".py",
   "mimetype": "text/x-python",
   "name": "python",
   "nbconvert_exporter": "python",
   "pygments_lexer": "ipython3",
   "version": "3.7.11"
  }
 },
 "nbformat": 4,
 "nbformat_minor": 5
}
